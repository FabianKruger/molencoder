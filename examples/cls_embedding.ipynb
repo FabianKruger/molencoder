{
  "cells": [
    {
      "cell_type": "markdown",
      "metadata": {},
      "source": [
        "# MolEncoder CLS Token Embedding Tutorial\n",
        "\n",
        "This notebook demonstrates how to extract CLS token embeddings from the MolEncoder model for molecular representations.\n",
        "\n",
        "In this example, you'll learn how to:\n",
        "- Load the pre-trained MolEncoder model\n",
        "- Extract CLS token embeddings from SMILES strings\n",
        "\n",
        "**Important Note:** CLS token embeddings are most meaningful after the model has been fine-tuned on a specific downstream task. For examples of fine-tuning MolEncoder, please check the `classification_finetune.ipynb` and `regression_finetune.ipynb` notebooks in this folder.\n"
      ]
    },
    {
      "cell_type": "code",
      "execution_count": null,
      "metadata": {},
      "outputs": [],
      "source": [
        "%pip install transformers torch numpy\n"
      ]
    },
    {
      "cell_type": "code",
      "execution_count": 1,
      "metadata": {},
      "outputs": [],
      "source": [
        "from transformers import AutoTokenizer, AutoModel\n",
        "import torch\n",
        "import numpy as np\n",
        "\n",
        "model_id = \"fabikru/MolEncoder\"\n",
        "\n",
        "# Load the tokenizer and model\n",
        "tokenizer = AutoTokenizer.from_pretrained(model_id)\n",
        "model = AutoModel.from_pretrained(model_id)"
      ]
    },
    {
      "cell_type": "code",
      "execution_count": 2,
      "metadata": {},
      "outputs": [
        {
          "name": "stderr",
          "output_type": "stream",
          "text": [
            "Compiling the model with `torch.compile` and using a `torch.cpu` device is not supported. Falling back to non-compiled mode.\n"
          ]
        }
      ],
      "source": [
        "smiles = \"CCCCO\"\n",
        "inputs = tokenizer(smiles, return_tensors='pt', max_length=502, truncation=True)\n",
        "\n",
        "# ModernBERT doesn't need token_type_ids\n",
        "if \"token_type_ids\" in inputs:\n",
        "    del inputs[\"token_type_ids\"]\n",
        "    \n",
        "with torch.no_grad():\n",
        "    outputs = model(**inputs)\n",
        "    \n",
        "# Extract [CLS] token representation\n",
        "cls_embedding = outputs.last_hidden_state[:, 0, :]\n",
        "# remove batch dimension\n",
        "cls_embedding = cls_embedding.squeeze(0)"
      ]
    },
    {
      "cell_type": "code",
      "execution_count": 3,
      "metadata": {},
      "outputs": [
        {
          "data": {
            "text/plain": [
              "torch.Size([384])"
            ]
          },
          "execution_count": 3,
          "metadata": {},
          "output_type": "execute_result"
        }
      ],
      "source": [
        "cls_embedding.shape"
      ]
    },
    {
      "cell_type": "code",
      "execution_count": 4,
      "metadata": {},
      "outputs": [
        {
          "data": {
            "text/plain": [
              "(384,)"
            ]
          },
          "execution_count": 4,
          "metadata": {},
          "output_type": "execute_result"
        }
      ],
      "source": [
        "# convert to numpy array\n",
        "cls_embedding = cls_embedding.cpu().numpy()\n",
        "cls_embedding.shape"
      ]
    }
  ],
  "metadata": {
    "kernelspec": {
      "display_name": "encoder",
      "language": "python",
      "name": "python3"
    },
    "language_info": {
      "codemirror_mode": {
        "name": "ipython",
        "version": 3
      },
      "file_extension": ".py",
      "mimetype": "text/x-python",
      "name": "python",
      "nbconvert_exporter": "python",
      "pygments_lexer": "ipython3",
      "version": "3.13.2"
    }
  },
  "nbformat": 4,
  "nbformat_minor": 2
}
