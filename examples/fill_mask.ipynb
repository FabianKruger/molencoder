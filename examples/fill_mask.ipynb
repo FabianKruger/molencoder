{
 "cells": [
  {
   "cell_type": "markdown",
   "id": "9b42f7bd",
   "metadata": {},
   "source": [
    "# MolEncoder Fill-Mask Tutorial\n",
    "\n",
    "This notebook demonstrates how to use MolEncoder for molecular mask filling tasks.\n",
    "\n",
    "In this example, you'll learn how to:\n",
    "- Load the pre-trained MolEncoder model\n",
    "- Use the fill-mask pipeline to predict missing parts of SMILES strings\n",
    "- Interpret the results and confidence scores\n",
    "\n",
    "The model will predict the most likely tokens to fill masked positions in molecular SMILES.\n"
   ]
  },
  {
   "cell_type": "code",
   "execution_count": null,
   "id": "66786d2a",
   "metadata": {},
   "outputs": [],
   "source": [
    "%pip install transformers"
   ]
  },
  {
   "cell_type": "code",
   "execution_count": null,
   "id": "aa7e8e9b",
   "metadata": {},
   "outputs": [
    {
     "name": "stderr",
     "output_type": "stream",
     "text": [
      "Device set to use mps:0\n"
     ]
    },
    {
     "name": "stdout",
     "output_type": "stream",
     "text": [
      "CC(O)C  (score: 0.9935)\n",
      "CC(OCC  (score: 0.0047)\n",
      "CC(OOC  (score: 0.0008)\n",
      "CC(ONC  (score: 0.0007)\n",
      "CC(OSC  (score: 0.0002)\n"
     ]
    }
   ],
   "source": [
    "from transformers import pipeline\n",
    "\n",
    "model_id = \"fabikru/MolEncoder\"\n",
    "\n",
    "fill_mask = pipeline(\"fill-mask\", model=model_id)\n",
    "\n",
    "# you have to define the position(s) you want to mask with \"[MASK]\"\n",
    "result = fill_mask(\"CC(O[MASK]C\")\n",
    "\n",
    "# here you can see the top 5 unique predictions\n",
    "for r in result:\n",
    "    print(f\"{r['sequence']}  (score: {r['score']:.4f})\")"
   ]
  }
 ],
 "metadata": {
  "kernelspec": {
   "display_name": "encoder",
   "language": "python",
   "name": "python3"
  },
  "language_info": {
   "codemirror_mode": {
    "name": "ipython",
    "version": 3
   },
   "file_extension": ".py",
   "mimetype": "text/x-python",
   "name": "python",
   "nbconvert_exporter": "python",
   "pygments_lexer": "ipython3",
   "version": "3.13.2"
  }
 },
 "nbformat": 4,
 "nbformat_minor": 5
}
